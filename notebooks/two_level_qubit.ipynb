{
 "cells": [
  {
   "cell_type": "code",
   "execution_count": 1,
   "metadata": {},
   "outputs": [
    {
     "name": "stdout",
     "output_type": "stream",
     "text": [
      "Using matplotlib backend: Qt5Agg\n"
     ]
    }
   ],
   "source": [
    "%matplotlib auto \n",
    "# Automatically determine your backend.\n",
    "# If auto-detection fails, run the following two lines to determine your backend.\n",
    "# >>> import matplotlib\n",
    "# >>> matplotlib.get_backend()\n",
    "# It should be one of the following (or at least close to)\n",
    "# ['auto', 'gtk', 'gtk3', 'inline', 'nbagg', 'notebook', 'osx', 'qt', 'qt4', 'qt5', 'tk', 'wx']\n",
    "from sfqlib.sfqQubit import Sfq2LevelFancyQubit, Sfq3LevelFancyQubit, Sfq2LevelQubit, Sfq3LevelQubit\n",
    "import matplotlib.pyplot as plt\n",
    "from mpl_toolkits.mplot3d import Axes3D\n",
    "from numpy import pi, dot"
   ]
  },
  {
   "cell_type": "code",
   "execution_count": 17,
   "metadata": {},
   "outputs": [],
   "source": [
    "# Create a interactive plot.\n",
    "plt.ion()\n",
    "fig = plt.figure(figsize=(8, 8))\n",
    "axis = fig.gca(projection='3d')\n",
    "# Create a qubit\n",
    "qubit = Sfq2LevelFancyQubit(axis, d_theta=pi/40, w_clock=2*pi*40e9,\n",
    "                             w_qubit=(2*pi*5.0e9, 2*pi*9.8e9), theta=-pi/2)\n",
    "# Only plot the motion of the ground state and the excited state.\n",
    "qubit.set_plot_kets(['G', 'E'])"
   ]
  },
  {
   "cell_type": "code",
   "execution_count": 18,
   "metadata": {},
   "outputs": [],
   "source": [
    "# Apply a resonant sequence.\n",
    "for i in range(20):\n",
    "    qubit.pulse_and_precess()\n",
    "    plt.pause(0.001)\n",
    "    for j in range(7):\n",
    "        qubit.precess()\n",
    "        plt.pause(0.001)"
   ]
  }
 ],
 "metadata": {
  "kernelspec": {
   "display_name": "Python 2",
   "language": "python",
   "name": "python2"
  },
  "language_info": {
   "codemirror_mode": {
    "name": "ipython",
    "version": 2
   },
   "file_extension": ".py",
   "mimetype": "text/x-python",
   "name": "python",
   "nbconvert_exporter": "python",
   "pygments_lexer": "ipython2",
   "version": "2.7.14"
  }
 },
 "nbformat": 4,
 "nbformat_minor": 2
}
