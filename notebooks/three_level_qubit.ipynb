{
 "cells": [
  {
   "cell_type": "code",
   "execution_count": 6,
   "metadata": {},
   "outputs": [
    {
     "name": "stdout",
     "output_type": "stream",
     "text": [
      "Using matplotlib backend: Qt5Agg\n"
     ]
    }
   ],
   "source": [
    "%matplotlib auto \n",
    "# Automatically determine your backend.\n",
    "# If auto-detection fails, run the following two lines to determine your backend.\n",
    "# >>> import matplotlib\n",
    "# >>> matplotlib.get_backend()\n",
    "# It should be one of the following (or at least close to)\n",
    "# ['auto', 'gtk', 'gtk3', 'inline', 'nbagg', 'notebook', 'osx', 'qt', 'qt4', 'qt5', 'tk', 'wx']\n",
    "from sfqlib.sfqQubit import Sfq2LevelFancyQubit, Sfq3LevelFancyQubit, Sfq2LevelQubit, Sfq3LevelQubit\n",
    "import matplotlib.pyplot as plt\n",
    "from mpl_toolkits.mplot3d import Axes3D\n",
    "from numpy import pi, dot"
   ]
  },
  {
   "cell_type": "code",
   "execution_count": 7,
   "metadata": {},
   "outputs": [],
   "source": [
    "# Create a interactive plot.\n",
    "plt.ion()\n",
    "fig = plt.figure(figsize=(10, 10))\n",
    "axis_01 = fig.add_subplot(2, 2, 1, projection='3d', label='0-1 subspace')\n",
    "axis_12 = fig.add_subplot(2, 2, 2, projection='3d', label='1-2 subspace')\n",
    "axis_alpha = fig.add_subplot(2, 2, 3)\n",
    "axis_beta = fig.add_subplot(2, 2, 4)\n",
    "# Create a qubit\n",
    "qubit = Sfq3LevelFancyQubit((axis_01, axis_12), d_theta=pi/40, w_clock=2*pi*40e9,\n",
    "                             w_qubit=(2*pi*5.0e9, 2*pi*9.8e9), theta=pi/2)\n",
    "# Only plot the motion of the ground state and the excited state.\n",
    "qubit.set_plot_kets(['G', 'E'])"
   ]
  },
  {
   "cell_type": "code",
   "execution_count": 8,
   "metadata": {},
   "outputs": [],
   "source": [
    "# Apply a resonant sequence. Remove the pause if you don't want to see the animation.\n",
    "for i in range(20):\n",
    "    qubit.pulse_and_precess()\n",
    "    plt.pause(0.01)\n",
    "    for j in range(7):\n",
    "        qubit.precess()\n",
    "        plt.pause(0.01)"
   ]
  },
  {
   "cell_type": "code",
   "execution_count": 9,
   "metadata": {},
   "outputs": [
    {
     "data": {
      "text/plain": [
       "<matplotlib.legend.Legend at 0x7feec0162a50>"
      ]
     },
     "execution_count": 9,
     "metadata": {},
     "output_type": "execute_result"
    }
   ],
   "source": [
    "# Plot the euler angles.\n",
    "axis_alpha.plot(qubit.alpha_list, label=r'$\\alpha$', color='r')\n",
    "axis_beta.plot(qubit.beta_list, label=r'$\\beta$', color='b')\n",
    "axis_alpha.legend()\n",
    "axis_beta.legend()"
   ]
  }
 ],
 "metadata": {
  "kernelspec": {
   "display_name": "Python 2",
   "language": "python",
   "name": "python2"
  },
  "language_info": {
   "codemirror_mode": {
    "name": "ipython",
    "version": 2
   },
   "file_extension": ".py",
   "mimetype": "text/x-python",
   "name": "python",
   "nbconvert_exporter": "python",
   "pygments_lexer": "ipython2",
   "version": "2.7.14"
  }
 },
 "nbformat": 4,
 "nbformat_minor": 2
}
